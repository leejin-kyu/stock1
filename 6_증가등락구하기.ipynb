{
  "nbformat": 4,
  "nbformat_minor": 0,
  "metadata": {
    "colab": {
      "provenance": []
    },
    "kernelspec": {
      "name": "python3",
      "display_name": "Python 3"
    },
    "language_info": {
      "name": "python"
    }
  },
  "cells": [
    {
      "cell_type": "code",
      "source": [
        "!pip install --upgrade finance-datareader"
      ],
      "metadata": {
        "colab": {
          "base_uri": "https://localhost:8080/"
        },
        "id": "ramOqncgVnx4",
        "outputId": "11ad5373-38e3-4fc2-eb59-2b792cbbedb1"
      },
      "execution_count": 2,
      "outputs": [
        {
          "output_type": "stream",
          "name": "stdout",
          "text": [
            "Collecting finance-datareader\n",
            "  Downloading finance_datareader-0.9.66-py3-none-any.whl (23 kB)\n",
            "Requirement already satisfied: pandas>=0.19.2 in /usr/local/lib/python3.10/dist-packages (from finance-datareader) (1.5.3)\n",
            "Requirement already satisfied: requests>=2.3.0 in /usr/local/lib/python3.10/dist-packages (from finance-datareader) (2.31.0)\n",
            "Collecting requests-file (from finance-datareader)\n",
            "  Downloading requests_file-1.5.1-py2.py3-none-any.whl (3.7 kB)\n",
            "Requirement already satisfied: lxml in /usr/local/lib/python3.10/dist-packages (from finance-datareader) (4.9.3)\n",
            "Requirement already satisfied: tqdm in /usr/local/lib/python3.10/dist-packages (from finance-datareader) (4.66.1)\n",
            "Requirement already satisfied: python-dateutil>=2.8.1 in /usr/local/lib/python3.10/dist-packages (from pandas>=0.19.2->finance-datareader) (2.8.2)\n",
            "Requirement already satisfied: pytz>=2020.1 in /usr/local/lib/python3.10/dist-packages (from pandas>=0.19.2->finance-datareader) (2023.3.post1)\n",
            "Requirement already satisfied: numpy>=1.21.0 in /usr/local/lib/python3.10/dist-packages (from pandas>=0.19.2->finance-datareader) (1.23.5)\n",
            "Requirement already satisfied: charset-normalizer<4,>=2 in /usr/local/lib/python3.10/dist-packages (from requests>=2.3.0->finance-datareader) (3.3.2)\n",
            "Requirement already satisfied: idna<4,>=2.5 in /usr/local/lib/python3.10/dist-packages (from requests>=2.3.0->finance-datareader) (3.6)\n",
            "Requirement already satisfied: urllib3<3,>=1.21.1 in /usr/local/lib/python3.10/dist-packages (from requests>=2.3.0->finance-datareader) (2.0.7)\n",
            "Requirement already satisfied: certifi>=2017.4.17 in /usr/local/lib/python3.10/dist-packages (from requests>=2.3.0->finance-datareader) (2023.11.17)\n",
            "Requirement already satisfied: six in /usr/local/lib/python3.10/dist-packages (from requests-file->finance-datareader) (1.16.0)\n",
            "Installing collected packages: requests-file, finance-datareader\n",
            "Successfully installed finance-datareader-0.9.66 requests-file-1.5.1\n"
          ]
        }
      ]
    },
    {
      "cell_type": "code",
      "source": [
        "# 필요한 라이브러리를 가져오기\n",
        "import matplotlib.pyplot as plt  # Matplotlib를 가져옴\n",
        "import pandas as pd  # Pandas를 가져옴\n",
        "import FinanceDataReader as fdr  # FinanceDataReader를 가져옴"
      ],
      "metadata": {
        "id": "8asAEn_4V0XO"
      },
      "execution_count": 3,
      "outputs": []
    },
    {
      "cell_type": "code",
      "source": [
        "df=fdr.DataReader('005930','2010-01-01')\n",
        "df.head(5)"
      ],
      "metadata": {
        "colab": {
          "base_uri": "https://localhost:8080/",
          "height": 237
        },
        "id": "-vgrCQUNV8NB",
        "outputId": "55b7f897-4ea2-4e10-b830-22b1fd66d049"
      },
      "execution_count": 4,
      "outputs": [
        {
          "output_type": "execute_result",
          "data": {
            "text/plain": [
              "             Open   High    Low  Close  Volume    Change\n",
              "Date                                                    \n",
              "2010-01-04  16060  16180  16000  16180  239271  0.012516\n",
              "2010-01-05  16520  16580  16300  16440  559219  0.016069\n",
              "2010-01-06  16580  16820  16520  16820  459755  0.023114\n",
              "2010-01-07  16820  16820  16260  16260  443237 -0.033294\n",
              "2010-01-08  16400  16420  16120  16420  295798  0.009840"
            ],
            "text/html": [
              "\n",
              "  <div id=\"df-4e297af3-16ef-4623-823e-479813c33c2b\" class=\"colab-df-container\">\n",
              "    <div>\n",
              "<style scoped>\n",
              "    .dataframe tbody tr th:only-of-type {\n",
              "        vertical-align: middle;\n",
              "    }\n",
              "\n",
              "    .dataframe tbody tr th {\n",
              "        vertical-align: top;\n",
              "    }\n",
              "\n",
              "    .dataframe thead th {\n",
              "        text-align: right;\n",
              "    }\n",
              "</style>\n",
              "<table border=\"1\" class=\"dataframe\">\n",
              "  <thead>\n",
              "    <tr style=\"text-align: right;\">\n",
              "      <th></th>\n",
              "      <th>Open</th>\n",
              "      <th>High</th>\n",
              "      <th>Low</th>\n",
              "      <th>Close</th>\n",
              "      <th>Volume</th>\n",
              "      <th>Change</th>\n",
              "    </tr>\n",
              "    <tr>\n",
              "      <th>Date</th>\n",
              "      <th></th>\n",
              "      <th></th>\n",
              "      <th></th>\n",
              "      <th></th>\n",
              "      <th></th>\n",
              "      <th></th>\n",
              "    </tr>\n",
              "  </thead>\n",
              "  <tbody>\n",
              "    <tr>\n",
              "      <th>2010-01-04</th>\n",
              "      <td>16060</td>\n",
              "      <td>16180</td>\n",
              "      <td>16000</td>\n",
              "      <td>16180</td>\n",
              "      <td>239271</td>\n",
              "      <td>0.012516</td>\n",
              "    </tr>\n",
              "    <tr>\n",
              "      <th>2010-01-05</th>\n",
              "      <td>16520</td>\n",
              "      <td>16580</td>\n",
              "      <td>16300</td>\n",
              "      <td>16440</td>\n",
              "      <td>559219</td>\n",
              "      <td>0.016069</td>\n",
              "    </tr>\n",
              "    <tr>\n",
              "      <th>2010-01-06</th>\n",
              "      <td>16580</td>\n",
              "      <td>16820</td>\n",
              "      <td>16520</td>\n",
              "      <td>16820</td>\n",
              "      <td>459755</td>\n",
              "      <td>0.023114</td>\n",
              "    </tr>\n",
              "    <tr>\n",
              "      <th>2010-01-07</th>\n",
              "      <td>16820</td>\n",
              "      <td>16820</td>\n",
              "      <td>16260</td>\n",
              "      <td>16260</td>\n",
              "      <td>443237</td>\n",
              "      <td>-0.033294</td>\n",
              "    </tr>\n",
              "    <tr>\n",
              "      <th>2010-01-08</th>\n",
              "      <td>16400</td>\n",
              "      <td>16420</td>\n",
              "      <td>16120</td>\n",
              "      <td>16420</td>\n",
              "      <td>295798</td>\n",
              "      <td>0.009840</td>\n",
              "    </tr>\n",
              "  </tbody>\n",
              "</table>\n",
              "</div>\n",
              "    <div class=\"colab-df-buttons\">\n",
              "\n",
              "  <div class=\"colab-df-container\">\n",
              "    <button class=\"colab-df-convert\" onclick=\"convertToInteractive('df-4e297af3-16ef-4623-823e-479813c33c2b')\"\n",
              "            title=\"Convert this dataframe to an interactive table.\"\n",
              "            style=\"display:none;\">\n",
              "\n",
              "  <svg xmlns=\"http://www.w3.org/2000/svg\" height=\"24px\" viewBox=\"0 -960 960 960\">\n",
              "    <path d=\"M120-120v-720h720v720H120Zm60-500h600v-160H180v160Zm220 220h160v-160H400v160Zm0 220h160v-160H400v160ZM180-400h160v-160H180v160Zm440 0h160v-160H620v160ZM180-180h160v-160H180v160Zm440 0h160v-160H620v160Z\"/>\n",
              "  </svg>\n",
              "    </button>\n",
              "\n",
              "  <style>\n",
              "    .colab-df-container {\n",
              "      display:flex;\n",
              "      gap: 12px;\n",
              "    }\n",
              "\n",
              "    .colab-df-convert {\n",
              "      background-color: #E8F0FE;\n",
              "      border: none;\n",
              "      border-radius: 50%;\n",
              "      cursor: pointer;\n",
              "      display: none;\n",
              "      fill: #1967D2;\n",
              "      height: 32px;\n",
              "      padding: 0 0 0 0;\n",
              "      width: 32px;\n",
              "    }\n",
              "\n",
              "    .colab-df-convert:hover {\n",
              "      background-color: #E2EBFA;\n",
              "      box-shadow: 0px 1px 2px rgba(60, 64, 67, 0.3), 0px 1px 3px 1px rgba(60, 64, 67, 0.15);\n",
              "      fill: #174EA6;\n",
              "    }\n",
              "\n",
              "    .colab-df-buttons div {\n",
              "      margin-bottom: 4px;\n",
              "    }\n",
              "\n",
              "    [theme=dark] .colab-df-convert {\n",
              "      background-color: #3B4455;\n",
              "      fill: #D2E3FC;\n",
              "    }\n",
              "\n",
              "    [theme=dark] .colab-df-convert:hover {\n",
              "      background-color: #434B5C;\n",
              "      box-shadow: 0px 1px 3px 1px rgba(0, 0, 0, 0.15);\n",
              "      filter: drop-shadow(0px 1px 2px rgba(0, 0, 0, 0.3));\n",
              "      fill: #FFFFFF;\n",
              "    }\n",
              "  </style>\n",
              "\n",
              "    <script>\n",
              "      const buttonEl =\n",
              "        document.querySelector('#df-4e297af3-16ef-4623-823e-479813c33c2b button.colab-df-convert');\n",
              "      buttonEl.style.display =\n",
              "        google.colab.kernel.accessAllowed ? 'block' : 'none';\n",
              "\n",
              "      async function convertToInteractive(key) {\n",
              "        const element = document.querySelector('#df-4e297af3-16ef-4623-823e-479813c33c2b');\n",
              "        const dataTable =\n",
              "          await google.colab.kernel.invokeFunction('convertToInteractive',\n",
              "                                                    [key], {});\n",
              "        if (!dataTable) return;\n",
              "\n",
              "        const docLinkHtml = 'Like what you see? Visit the ' +\n",
              "          '<a target=\"_blank\" href=https://colab.research.google.com/notebooks/data_table.ipynb>data table notebook</a>'\n",
              "          + ' to learn more about interactive tables.';\n",
              "        element.innerHTML = '';\n",
              "        dataTable['output_type'] = 'display_data';\n",
              "        await google.colab.output.renderOutput(dataTable, element);\n",
              "        const docLink = document.createElement('div');\n",
              "        docLink.innerHTML = docLinkHtml;\n",
              "        element.appendChild(docLink);\n",
              "      }\n",
              "    </script>\n",
              "  </div>\n",
              "\n",
              "\n",
              "<div id=\"df-db2ee051-6342-4548-98da-37d25d456dac\">\n",
              "  <button class=\"colab-df-quickchart\" onclick=\"quickchart('df-db2ee051-6342-4548-98da-37d25d456dac')\"\n",
              "            title=\"Suggest charts\"\n",
              "            style=\"display:none;\">\n",
              "\n",
              "<svg xmlns=\"http://www.w3.org/2000/svg\" height=\"24px\"viewBox=\"0 0 24 24\"\n",
              "     width=\"24px\">\n",
              "    <g>\n",
              "        <path d=\"M19 3H5c-1.1 0-2 .9-2 2v14c0 1.1.9 2 2 2h14c1.1 0 2-.9 2-2V5c0-1.1-.9-2-2-2zM9 17H7v-7h2v7zm4 0h-2V7h2v10zm4 0h-2v-4h2v4z\"/>\n",
              "    </g>\n",
              "</svg>\n",
              "  </button>\n",
              "\n",
              "<style>\n",
              "  .colab-df-quickchart {\n",
              "      --bg-color: #E8F0FE;\n",
              "      --fill-color: #1967D2;\n",
              "      --hover-bg-color: #E2EBFA;\n",
              "      --hover-fill-color: #174EA6;\n",
              "      --disabled-fill-color: #AAA;\n",
              "      --disabled-bg-color: #DDD;\n",
              "  }\n",
              "\n",
              "  [theme=dark] .colab-df-quickchart {\n",
              "      --bg-color: #3B4455;\n",
              "      --fill-color: #D2E3FC;\n",
              "      --hover-bg-color: #434B5C;\n",
              "      --hover-fill-color: #FFFFFF;\n",
              "      --disabled-bg-color: #3B4455;\n",
              "      --disabled-fill-color: #666;\n",
              "  }\n",
              "\n",
              "  .colab-df-quickchart {\n",
              "    background-color: var(--bg-color);\n",
              "    border: none;\n",
              "    border-radius: 50%;\n",
              "    cursor: pointer;\n",
              "    display: none;\n",
              "    fill: var(--fill-color);\n",
              "    height: 32px;\n",
              "    padding: 0;\n",
              "    width: 32px;\n",
              "  }\n",
              "\n",
              "  .colab-df-quickchart:hover {\n",
              "    background-color: var(--hover-bg-color);\n",
              "    box-shadow: 0 1px 2px rgba(60, 64, 67, 0.3), 0 1px 3px 1px rgba(60, 64, 67, 0.15);\n",
              "    fill: var(--button-hover-fill-color);\n",
              "  }\n",
              "\n",
              "  .colab-df-quickchart-complete:disabled,\n",
              "  .colab-df-quickchart-complete:disabled:hover {\n",
              "    background-color: var(--disabled-bg-color);\n",
              "    fill: var(--disabled-fill-color);\n",
              "    box-shadow: none;\n",
              "  }\n",
              "\n",
              "  .colab-df-spinner {\n",
              "    border: 2px solid var(--fill-color);\n",
              "    border-color: transparent;\n",
              "    border-bottom-color: var(--fill-color);\n",
              "    animation:\n",
              "      spin 1s steps(1) infinite;\n",
              "  }\n",
              "\n",
              "  @keyframes spin {\n",
              "    0% {\n",
              "      border-color: transparent;\n",
              "      border-bottom-color: var(--fill-color);\n",
              "      border-left-color: var(--fill-color);\n",
              "    }\n",
              "    20% {\n",
              "      border-color: transparent;\n",
              "      border-left-color: var(--fill-color);\n",
              "      border-top-color: var(--fill-color);\n",
              "    }\n",
              "    30% {\n",
              "      border-color: transparent;\n",
              "      border-left-color: var(--fill-color);\n",
              "      border-top-color: var(--fill-color);\n",
              "      border-right-color: var(--fill-color);\n",
              "    }\n",
              "    40% {\n",
              "      border-color: transparent;\n",
              "      border-right-color: var(--fill-color);\n",
              "      border-top-color: var(--fill-color);\n",
              "    }\n",
              "    60% {\n",
              "      border-color: transparent;\n",
              "      border-right-color: var(--fill-color);\n",
              "    }\n",
              "    80% {\n",
              "      border-color: transparent;\n",
              "      border-right-color: var(--fill-color);\n",
              "      border-bottom-color: var(--fill-color);\n",
              "    }\n",
              "    90% {\n",
              "      border-color: transparent;\n",
              "      border-bottom-color: var(--fill-color);\n",
              "    }\n",
              "  }\n",
              "</style>\n",
              "\n",
              "  <script>\n",
              "    async function quickchart(key) {\n",
              "      const quickchartButtonEl =\n",
              "        document.querySelector('#' + key + ' button');\n",
              "      quickchartButtonEl.disabled = true;  // To prevent multiple clicks.\n",
              "      quickchartButtonEl.classList.add('colab-df-spinner');\n",
              "      try {\n",
              "        const charts = await google.colab.kernel.invokeFunction(\n",
              "            'suggestCharts', [key], {});\n",
              "      } catch (error) {\n",
              "        console.error('Error during call to suggestCharts:', error);\n",
              "      }\n",
              "      quickchartButtonEl.classList.remove('colab-df-spinner');\n",
              "      quickchartButtonEl.classList.add('colab-df-quickchart-complete');\n",
              "    }\n",
              "    (() => {\n",
              "      let quickchartButtonEl =\n",
              "        document.querySelector('#df-db2ee051-6342-4548-98da-37d25d456dac button');\n",
              "      quickchartButtonEl.style.display =\n",
              "        google.colab.kernel.accessAllowed ? 'block' : 'none';\n",
              "    })();\n",
              "  </script>\n",
              "</div>\n",
              "\n",
              "    </div>\n",
              "  </div>\n"
            ]
          },
          "metadata": {},
          "execution_count": 4
        }
      ]
    },
    {
      "cell_type": "code",
      "source": [
        "df1=df.loc['2022-01-01':'2022-12-31']\n",
        "df2=df1.copy()\n",
        "df2['ret']=(df2['Close'].pct_change())*100\n",
        "df3=df2['ret']\n",
        "r=df3.dropna()#dropna() 함수는 NA 값(결측치)를 가진 행을 제거합니다.\n",
        "len(r)"
      ],
      "metadata": {
        "colab": {
          "base_uri": "https://localhost:8080/"
        },
        "id": "umh5Z_bCWICU",
        "outputId": "e16c9c4b-10a9-41da-89b2-ecc0158bc8d8"
      },
      "execution_count": 6,
      "outputs": [
        {
          "output_type": "execute_result",
          "data": {
            "text/plain": [
              "245"
            ]
          },
          "metadata": {},
          "execution_count": 6
        }
      ]
    },
    {
      "cell_type": "code",
      "source": [
        "positive=0\n",
        "n = len(r)\n",
        "for i in range(n):\n",
        "    if r[i]>0:\n",
        "        positive +=1\n",
        "negative =n-positive"
      ],
      "metadata": {
        "id": "3pXoYd_pXPfD"
      },
      "execution_count": 9,
      "outputs": []
    },
    {
      "cell_type": "code",
      "source": [
        "positive"
      ],
      "metadata": {
        "colab": {
          "base_uri": "https://localhost:8080/"
        },
        "id": "zCtMbbLSYbBg",
        "outputId": "d3e1ed48-a5de-42ed-d973-d4141143f4ee"
      },
      "execution_count": 8,
      "outputs": [
        {
          "output_type": "execute_result",
          "data": {
            "text/plain": [
              "103"
            ]
          },
          "metadata": {},
          "execution_count": 8
        }
      ]
    },
    {
      "cell_type": "code",
      "source": [
        "positive_rate=positive/n"
      ],
      "metadata": {
        "id": "NV6F9Zy3Ylpi"
      },
      "execution_count": 10,
      "outputs": []
    },
    {
      "cell_type": "code",
      "source": [
        "positive_rate"
      ],
      "metadata": {
        "colab": {
          "base_uri": "https://localhost:8080/"
        },
        "id": "ZouCx_lUYmzI",
        "outputId": "f293eb7b-40d1-4d66-e275-e0e688178920"
      },
      "execution_count": 11,
      "outputs": [
        {
          "output_type": "execute_result",
          "data": {
            "text/plain": [
              "0.4204081632653061"
            ]
          },
          "metadata": {},
          "execution_count": 11
        }
      ]
    },
    {
      "cell_type": "code",
      "source": [
        "import math\n",
        "a=math.factorial(8)\n",
        "b=math.factorial(5)*math.factorial(3)\n",
        "c=((positive_rate)**5)*((1-positive_rate)**3)#성공 확률(positive_rate)이 5번 발생하고, 실패 확률(1 - positive_rate)이 3번 발생하는 확률을 계산합니다.\n",
        "\n",
        "number=a/b\n",
        "prob=number*c\n",
        "prob"
      ],
      "metadata": {
        "colab": {
          "base_uri": "https://localhost:8080/"
        },
        "id": "i4aEPnLoYpH-",
        "outputId": "e43bc51a-fe2a-4f9d-ec38-9a615533b4b8"
      },
      "execution_count": 13,
      "outputs": [
        {
          "output_type": "execute_result",
          "data": {
            "text/plain": [
              "0.14318928113438226"
            ]
          },
          "metadata": {},
          "execution_count": 13
        }
      ]
    },
    {
      "cell_type": "markdown",
      "source": [
        "***이항분포의 확률 공식***\n",
        "![image.png](data:image/png;base64,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)"
      ],
      "metadata": {
        "id": "WWJaHpBqcjyn"
      }
    }
  ]
}